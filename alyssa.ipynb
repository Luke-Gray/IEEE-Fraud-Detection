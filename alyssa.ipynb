{
 "cells": [
  {
   "cell_type": "code",
   "execution_count": 70,
   "metadata": {},
   "outputs": [],
   "source": [
    "import numpy as np\n",
    "import pandas as pd\n",
    "import matplotlib.pyplot as plt\n",
    "import seaborn as sns\n",
    "import gc,os,sys\n",
    "import re\n",
    "import random\n",
    "\n",
    "from sklearn.model_selection import KFold, cross_val_score, train_test_split\n",
    "# from sklearn import metrics, preprocessing\n",
    "from sklearn.model_selection import StratifiedKFold\n",
    "# from sklearn.decomposition import PCA, KernelPCA\n",
    "from sklearn.cluster import KMeans\n",
    "pd.set_option('display.max_columns', 100)\n",
    "pd.set_option('display.max_rows', 400)"
   ]
  },
  {
   "cell_type": "code",
   "execution_count": 71,
   "metadata": {},
   "outputs": [],
   "source": [
    "def reduce_mem_usage(df):\n",
    "    start_mem = df.memory_usage().sum() / 1024**2\n",
    "    print('Memory usage of dataframe is {:.2f} MB'.format(start_mem))\n",
    "    \n",
    "    for col in df.columns:\n",
    "        col_type = df[col].dtype\n",
    "        \n",
    "        if col_type != object:\n",
    "            c_min = df[col].min()\n",
    "            c_max = df[col].max()\n",
    "            if str(col_type)[:3] == 'int':\n",
    "                if c_min > np.iinfo(np.int8).min and c_max < np.iinfo(np.int8).max:\n",
    "                    df[col] = df[col].astype(np.int8)\n",
    "                elif c_min > np.iinfo(np.int16).min and c_max < np.iinfo(np.int16).max:\n",
    "                    df[col] = df[col].astype(np.int16)\n",
    "                elif c_min > np.iinfo(np.int32).min and c_max < np.iinfo(np.int32).max:\n",
    "                    df[col] = df[col].astype(np.int32)\n",
    "                elif c_min > df[col].astype(np.int64) and c_max < np.iinfo(np.int64).max:\n",
    "                    df[col] = df[col].astype(np.int64)\n",
    "            else:\n",
    "                    if c_min > np.finfo(np.float16).min and c_max < np.finfo(np.float16).max:\n",
    "                        df[col] = df[col].astype(np.float16)\n",
    "                    elif c_min > np.finfo(np.float32).min and c_max < np.finfo(np.float32).max:\n",
    "                        df[col] = df[col].astype(np.float32)\n",
    "                    else:\n",
    "                        df[col] = df[col].astype(np.float64)\n",
    "        else:\n",
    "                        df[col] = df[col].astype('category')\n",
    "    end_mem = df.memory_usage().sum() / 1024**2\n",
    "    print('Memory usage after optimization is: {:.2f} MB'.format(end_mem))\n",
    "    print('Decreased by {:.1f}%'.format(100 * (start_mem - end_mem) / start_mem))\n",
    "    return df "
   ]
  },
  {
   "cell_type": "code",
   "execution_count": 72,
   "metadata": {},
   "outputs": [],
   "source": [
    "train_trn = pd.read_csv('train_transaction.csv', index_col='TransactionID')\n",
    "test_trn = pd.read_csv('test_transaction.csv', index_col='TransactionID')\n",
    "\n",
    "train_id = pd.read_csv('train_identity.csv', index_col='TransactionID')\n",
    "test_id = pd.read_csv('test_identity.csv', index_col='TransactionID')\n",
    "\n",
    "sub = pd.read_csv('sample_submission.csv')"
   ]
  },
  {
   "cell_type": "code",
   "execution_count": 151,
   "metadata": {},
   "outputs": [
    {
     "data": {
      "text/plain": [
       "(590540, 393)"
      ]
     },
     "execution_count": 151,
     "metadata": {},
     "output_type": "execute_result"
    }
   ],
   "source": [
    "train_trn.shape"
   ]
  },
  {
   "cell_type": "code",
   "execution_count": 73,
   "metadata": {},
   "outputs": [],
   "source": [
    "train=pd.merge(train_trn,train_id, on ='TransactionID', how='left')\n",
    "test = pd.merge(test_trn, test_id, on='TransactionID', how='left')"
   ]
  },
  {
   "cell_type": "code",
   "execution_count": 74,
   "metadata": {},
   "outputs": [
    {
     "name": "stdout",
     "output_type": "stream",
     "text": [
      "Memory usage of dataframe is 1955.37 MB\n",
      "Memory usage after optimization is: 527.82 MB\n",
      "Decreased by 73.0%\n",
      "Memory usage of dataframe is 1673.87 MB\n",
      "Memory usage after optimization is: 460.15 MB\n",
      "Decreased by 72.5%\n"
     ]
    }
   ],
   "source": [
    "train = reduce_mem_usage(train)\n",
    "test = reduce_mem_usage(test)"
   ]
  },
  {
   "cell_type": "code",
   "execution_count": 121,
   "metadata": {},
   "outputs": [],
   "source": [
    "df_train = train.copy()\n",
    "df_test = test.copy()"
   ]
  },
  {
   "cell_type": "markdown",
   "metadata": {},
   "source": [
    "####  drop 80na"
   ]
  },
  {
   "cell_type": "code",
   "execution_count": 101,
   "metadata": {},
   "outputs": [],
   "source": [
    "def drop_80na(df):\n",
    "    null_percent = df.isna().sum()/df.shape[0]*100\n",
    "    null_percent = pd.DataFrame({'Percent Missing':null_percent})\n",
    "    cols_drop = null_percent.index[null_percent['Percent Missing'] > 80]\n",
    "    df = df.drop(cols_drop, axis = 1)\n",
    "    \n",
    "    return df\n"
   ]
  },
  {
   "cell_type": "code",
   "execution_count": 122,
   "metadata": {},
   "outputs": [],
   "source": [
    "df_train = drop_80na(df_train)\n",
    "df_test = drop_80na(df_test)"
   ]
  },
  {
   "cell_type": "markdown",
   "metadata": {},
   "source": [
    "#### null features"
   ]
  },
  {
   "cell_type": "code",
   "execution_count": 104,
   "metadata": {},
   "outputs": [],
   "source": [
    "def null_col(df):\n",
    "    df['nulls'] = train.isnull().sum(axis=1)\n",
    "    \n",
    "    return df"
   ]
  },
  {
   "cell_type": "code",
   "execution_count": 123,
   "metadata": {},
   "outputs": [],
   "source": [
    "df_train = null_col(df_train)\n",
    "df_test = null_col(df_test)"
   ]
  },
  {
   "cell_type": "markdown",
   "metadata": {},
   "source": [
    "#### fill cat_cols with 'missing', num_cols with -1"
   ]
  },
  {
   "cell_type": "code",
   "execution_count": 107,
   "metadata": {},
   "outputs": [],
   "source": [
    "def others_fill(df):\n",
    "    # fill all cat with missing\n",
    "    cat_cols = df.select_dtypes(include='category').columns\n",
    "    df[cat_cols] = df[cat_cols].replace({ np.nan:'missing'})\n",
    "    \n",
    "    # fill all num with -1\n",
    "    num_cols = df.select_dtypes(exclude = 'category').columns\n",
    "    df[num_cols] = df[num_cols].replace({ np.nan:-1})\n",
    "    \n",
    "    return df\n",
    "    "
   ]
  },
  {
   "cell_type": "code",
   "execution_count": 124,
   "metadata": {},
   "outputs": [],
   "source": [
    "df_train = others_fill(df_train)\n",
    "df_test = others_fill(df_test)"
   ]
  },
  {
   "cell_type": "markdown",
   "metadata": {},
   "source": [
    "#### fill card 4&6"
   ]
  },
  {
   "cell_type": "code",
   "execution_count": 109,
   "metadata": {},
   "outputs": [],
   "source": [
    "import random"
   ]
  },
  {
   "cell_type": "code",
   "execution_count": 110,
   "metadata": {},
   "outputs": [],
   "source": [
    "def card46_fill(df):\n",
    "    card4_filling = pd.DataFrame(df.card4.value_counts()/df.shape[0])\n",
    "    card6_filling = pd.DataFrame(df.card6.value_counts()/df.shape[0])\n",
    "    df.card4.fillna(random.choices(card4_filling.index,\n",
    "                               k=1,\n",
    "                               weights=card4_filling.card4)[0],\n",
    "                               inplace = True)\n",
    "    df.card6.fillna(random.choices(card6_filling.index,\n",
    "                               k=1,\n",
    "                               weights=card6_filling.card6)[0],\n",
    "                               inplace = True)\n",
    "    \n",
    "    return df"
   ]
  },
  {
   "cell_type": "code",
   "execution_count": 125,
   "metadata": {},
   "outputs": [],
   "source": [
    "df_train = card46_fill(df_train)\n",
    "df_test = card46_fill(df_test)"
   ]
  },
  {
   "cell_type": "markdown",
   "metadata": {},
   "source": [
    "#### deviceInfo"
   ]
  },
  {
   "cell_type": "code",
   "execution_count": 112,
   "metadata": {},
   "outputs": [],
   "source": [
    "def device(df):\n",
    "    # https://www.kaggle.com/viswajithkn/fraud-detection\n",
    "    df['device_name'] = df['DeviceInfo'].str.split('/', expand=True)[0]\n",
    "\n",
    "    df.loc[df['device_name'].str.contains('SM', na=False), 'device_name'] = 'Samsung'\n",
    "    df.loc[df['device_name'].str.contains('SAMSUNG', na=False), 'device_name'] = 'Samsung'\n",
    "    df.loc[df['device_name'].str.contains('GT-', na=False), 'device_name'] = 'Samsung'\n",
    "    df.loc[df['device_name'].str.contains('Moto G', na=False), 'device_name'] = 'Motorola'\n",
    "    df.loc[df['device_name'].str.contains('Moto', na=False), 'device_name'] = 'Motorola'\n",
    "    df.loc[df['device_name'].str.contains('moto', na=False), 'device_name'] = 'Motorola'\n",
    "    df.loc[df['device_name'].str.contains('LG-', na=False), 'device_name'] = 'LG'\n",
    "    df.loc[df['device_name'].str.contains('rv:', na=False), 'device_name'] = 'RV'\n",
    "    df.loc[df['device_name'].str.contains('HUAWEI', na=False), 'device_name'] = 'Huawei'\n",
    "    df.loc[df['device_name'].str.contains('ALE-', na=False), 'device_name'] = 'Huawei'\n",
    "    df.loc[df['device_name'].str.contains('-L', na=False), 'device_name'] = 'Huawei'\n",
    "    df.loc[df['device_name'].str.contains('Blade', na=False), 'device_name'] = 'ZTE'\n",
    "    df.loc[df['device_name'].str.contains('BLADE', na=False), 'device_name'] = 'ZTE'\n",
    "    df.loc[df['device_name'].str.contains('Linux', na=False), 'device_name'] = 'Linux'\n",
    "    df.loc[df['device_name'].str.contains('XT', na=False), 'device_name'] = 'Sony'\n",
    "    df.loc[df['device_name'].str.contains('HTC', na=False), 'device_name'] = 'HTC'\n",
    "    df.loc[df['device_name'].str.contains('ASUS', na=False), 'device_name'] = 'Asus'\n",
    "\n",
    "    df.loc[df.device_name.isin(df.device_name.value_counts()[df.device_name.value_counts() < 200].index), 'device_name'] = \"Others\"\n",
    "    \n",
    "    return df\n"
   ]
  },
  {
   "cell_type": "code",
   "execution_count": 126,
   "metadata": {},
   "outputs": [],
   "source": [
    "df_train = device(df_train)\n",
    "df_test = device(df_test)"
   ]
  },
  {
   "cell_type": "markdown",
   "metadata": {},
   "source": [
    "#### id_31"
   ]
  },
  {
   "cell_type": "code",
   "execution_count": 115,
   "metadata": {},
   "outputs": [],
   "source": [
    "def id_31_browser(df):\n",
    "    df.id_31 = df.id_31.str.replace(' ','')\n",
    "    df.loc[df.id_31.str.contains('chrome'),'id_31'] = 'chrome'\n",
    "    df.loc[df.id_31.str.contains('safari'),'id_31'] = 'safari'\n",
    "    df.loc[df.id_31.str.contains('firefox'),'id_31'] = 'firefox'\n",
    "    df.loc[df.id_31.str.contains('Firefox'),'id_31'] = 'firefox'\n",
    "    df.loc[df.id_31.str.contains('samsung'),'id_31'] = 'samsungbrowser'\n",
    "    df.loc[df.id_31.str.contains('Samsung'),'id_31'] = 'samsungbrowser'\n",
    "    df.loc[df.id_31.str.contains('google'),'id_31'] = 'google'\n",
    "    df.loc[df.id_31.str.contains('edge'),'id_31'] = 'edge'\n",
    "    df.loc[df.id_31.str.contains('opera'),'id_31'] = 'opera'\n",
    "    df.loc[df.id_31.str.contains('ie'),'id_31'] = 'ie'\n",
    "    \n",
    "    return df"
   ]
  },
  {
   "cell_type": "code",
   "execution_count": 127,
   "metadata": {},
   "outputs": [],
   "source": [
    "df_train = id_31_browser(df_train)\n",
    "df_test = id_31_browser(df_test)"
   ]
  },
  {
   "cell_type": "code",
   "execution_count": 132,
   "metadata": {},
   "outputs": [
    {
     "data": {
      "text/plain": [
       "Index(['isFraud', 'TransactionDT', 'TransactionAmt', 'ProductCD', 'card1',\n",
       "       'card2', 'card3', 'card4', 'card5', 'card6',\n",
       "       ...\n",
       "       'D15_to_mean_addr1', 'D15_to_std_addr1', 'nulls', 'device_name',\n",
       "       'TransactionAmt_Log', 'Transaction_h', 'id_02_to_mean_addr1',\n",
       "       'id_02_to_std_addr1', 'addr1_card1', 'TransactionAmt_decimal'],\n",
       "      dtype='object', length=383)"
      ]
     },
     "execution_count": 132,
     "metadata": {},
     "output_type": "execute_result"
    }
   ],
   "source": [
    "df_train.columns"
   ]
  },
  {
   "cell_type": "markdown",
   "metadata": {},
   "source": [
    "#### new features"
   ]
  },
  {
   "cell_type": "code",
   "execution_count": 129,
   "metadata": {},
   "outputs": [],
   "source": [
    "def new_features(df):\n",
    "    # log transform of TransactionAmt\n",
    "    df['TransactionAmt_Log'] = np.log(df['TransactionAmt'])\n",
    "    \n",
    "    # hour of the day in which a transaction happened.\n",
    "    df['Transaction_h']=np.floor(df['TransactionDT']/3600)%24\n",
    "    \n",
    "    columns_a = ['TransactionAmt', 'id_02', 'D15']\n",
    "    columns_b = ['card1', 'card4', 'addr1']\n",
    "\n",
    "    for col_a in columns_a:\n",
    "        for col_b in columns_b:\n",
    "                df[f'{col_a}_to_mean_{col_b}'] = df[col_a] / df.groupby([col_b])[col_a].transform('mean')\n",
    "                df[f'{col_a}_to_std_{col_b}'] = df[col_a] / df.groupby([col_b])[col_a].transform('std')\n",
    "    \n",
    "    #addr1_card1\n",
    "    df['addr1_card1'] = df['addr1'].astype(str) + '_' + df['card1'].astype(str)\n",
    "    \n",
    "    #TransactionAmt_decimal\n",
    "    df['TransactionAmt_decimal'] = ((df['TransactionAmt'] - df['TransactionAmt'].astype(int)) * 1000).astype(int)\n",
    "    \n",
    "    return df"
   ]
  },
  {
   "cell_type": "code",
   "execution_count": 131,
   "metadata": {},
   "outputs": [],
   "source": [
    "df_train = new_features(df_train)\n",
    "df_test = new_features(df_test)"
   ]
  },
  {
   "cell_type": "markdown",
   "metadata": {},
   "source": [
    "#### upsampling df_train"
   ]
  },
  {
   "cell_type": "code",
   "execution_count": 134,
   "metadata": {},
   "outputs": [
    {
     "data": {
      "text/plain": [
       "1    569877\n",
       "0    569877\n",
       "Name: isFraud, dtype: int64"
      ]
     },
     "execution_count": 134,
     "metadata": {},
     "output_type": "execute_result"
    }
   ],
   "source": [
    "from sklearn.utils import resample\n",
    "\n",
    "not_fraud=df_train[df_train.isFraud==0]\n",
    "fraud=df_train[df_train.isFraud==1]\n",
    "\n",
    "# upsample minority\n",
    "fraud_upsampled = resample(fraud,\n",
    "                          replace=True, # sample with replacement\n",
    "                          n_samples=len(not_fraud), # match number in majority class\n",
    "                          random_state=27) # reproducible results\n",
    "\n",
    "# combine majority and upsampled minority\n",
    "train_upsampled = pd.concat([not_fraud, fraud_upsampled])\n",
    "\n",
    "# check new class counts\n",
    "train_upsampled.isFraud.value_counts()"
   ]
  },
  {
   "cell_type": "code",
   "execution_count": 135,
   "metadata": {},
   "outputs": [
    {
     "data": {
      "text/plain": [
       "isFraud                             int8\n",
       "TransactionDT                      int32\n",
       "TransactionAmt                   float16\n",
       "ProductCD                       category\n",
       "card1                              int16\n",
       "card2                            float16\n",
       "card3                            float16\n",
       "card4                             object\n",
       "card5                            float16\n",
       "card6                             object\n",
       "addr1                            float16\n",
       "addr2                            float16\n",
       "dist1                            float16\n",
       "P_emaildomain                     object\n",
       "R_emaildomain                     object\n",
       "C1                               float16\n",
       "C2                               float16\n",
       "C3                               float16\n",
       "C4                               float16\n",
       "C5                               float16\n",
       "C6                               float16\n",
       "C7                               float16\n",
       "C8                               float16\n",
       "C9                               float16\n",
       "C10                              float16\n",
       "C11                              float16\n",
       "C12                              float16\n",
       "C13                              float16\n",
       "C14                              float16\n",
       "D1                               float16\n",
       "D2                               float16\n",
       "D3                               float16\n",
       "D4                               float16\n",
       "D5                               float16\n",
       "D10                              float16\n",
       "D11                              float16\n",
       "D15                              float16\n",
       "M1                                object\n",
       "M2                                object\n",
       "M3                                object\n",
       "M4                                object\n",
       "M5                                object\n",
       "M6                                object\n",
       "M7                                object\n",
       "M8                                object\n",
       "M9                                object\n",
       "V1                               float16\n",
       "V2                               float16\n",
       "V3                               float16\n",
       "V4                               float16\n",
       "V5                               float16\n",
       "V6                               float16\n",
       "V7                               float16\n",
       "V8                               float16\n",
       "V9                               float16\n",
       "V10                              float16\n",
       "V11                              float16\n",
       "V12                              float16\n",
       "V13                              float16\n",
       "V14                              float16\n",
       "V15                              float16\n",
       "V16                              float16\n",
       "V17                              float16\n",
       "V18                              float16\n",
       "V19                              float16\n",
       "V20                              float16\n",
       "V21                              float16\n",
       "V22                              float16\n",
       "V23                              float16\n",
       "V24                              float16\n",
       "V25                              float16\n",
       "V26                              float16\n",
       "V27                              float16\n",
       "V28                              float16\n",
       "V29                              float16\n",
       "V30                              float16\n",
       "V31                              float16\n",
       "V32                              float16\n",
       "V33                              float16\n",
       "V34                              float16\n",
       "V35                              float16\n",
       "V36                              float16\n",
       "V37                              float16\n",
       "V38                              float16\n",
       "V39                              float16\n",
       "V40                              float16\n",
       "V41                              float16\n",
       "V42                              float16\n",
       "V43                              float16\n",
       "V44                              float16\n",
       "V45                              float16\n",
       "V46                              float16\n",
       "V47                              float16\n",
       "V48                              float16\n",
       "V49                              float16\n",
       "V50                              float16\n",
       "V51                              float16\n",
       "V52                              float16\n",
       "V53                              float16\n",
       "V54                              float16\n",
       "V55                              float16\n",
       "V56                              float16\n",
       "V57                              float16\n",
       "V58                              float16\n",
       "V59                              float16\n",
       "V60                              float16\n",
       "V61                              float16\n",
       "V62                              float16\n",
       "V63                              float16\n",
       "V64                              float16\n",
       "V65                              float16\n",
       "V66                              float16\n",
       "V67                              float16\n",
       "V68                              float16\n",
       "V69                              float16\n",
       "V70                              float16\n",
       "V71                              float16\n",
       "V72                              float16\n",
       "V73                              float16\n",
       "V74                              float16\n",
       "V75                              float16\n",
       "V76                              float16\n",
       "V77                              float16\n",
       "V78                              float16\n",
       "V79                              float16\n",
       "V80                              float16\n",
       "V81                              float16\n",
       "V82                              float16\n",
       "V83                              float16\n",
       "V84                              float16\n",
       "V85                              float16\n",
       "V86                              float16\n",
       "V87                              float16\n",
       "V88                              float16\n",
       "V89                              float16\n",
       "V90                              float16\n",
       "V91                              float16\n",
       "V92                              float16\n",
       "V93                              float16\n",
       "V94                              float16\n",
       "V95                              float16\n",
       "V96                              float16\n",
       "V97                              float16\n",
       "V98                              float16\n",
       "V99                              float16\n",
       "V100                             float16\n",
       "V101                             float16\n",
       "V102                             float16\n",
       "V103                             float16\n",
       "V104                             float16\n",
       "V105                             float16\n",
       "V106                             float16\n",
       "V107                             float16\n",
       "V108                             float16\n",
       "V109                             float16\n",
       "V110                             float16\n",
       "V111                             float16\n",
       "V112                             float16\n",
       "V113                             float16\n",
       "V114                             float16\n",
       "V115                             float16\n",
       "V116                             float16\n",
       "V117                             float16\n",
       "V118                             float16\n",
       "V119                             float16\n",
       "V120                             float16\n",
       "V121                             float16\n",
       "V122                             float16\n",
       "V123                             float16\n",
       "V124                             float16\n",
       "V125                             float16\n",
       "V126                             float32\n",
       "V127                             float32\n",
       "V128                             float32\n",
       "V129                             float16\n",
       "V130                             float16\n",
       "V131                             float16\n",
       "V132                             float32\n",
       "V133                             float32\n",
       "V134                             float32\n",
       "V135                             float32\n",
       "V136                             float32\n",
       "V137                             float32\n",
       "V167                             float16\n",
       "V168                             float16\n",
       "V169                             float16\n",
       "V170                             float16\n",
       "V171                             float16\n",
       "V172                             float16\n",
       "V173                             float16\n",
       "V174                             float16\n",
       "V175                             float16\n",
       "V176                             float16\n",
       "V177                             float16\n",
       "V178                             float16\n",
       "V179                             float16\n",
       "V180                             float16\n",
       "V181                             float16\n",
       "V182                             float16\n",
       "V183                             float16\n",
       "V184                             float16\n",
       "V185                             float16\n",
       "V186                             float16\n",
       "V187                             float16\n",
       "V188                             float16\n",
       "V189                             float16\n",
       "V190                             float16\n",
       "V191                             float16\n",
       "V192                             float16\n",
       "V193                             float16\n",
       "V194                             float16\n",
       "V195                             float16\n",
       "V196                             float16\n",
       "V197                             float16\n",
       "V198                             float16\n",
       "V199                             float16\n",
       "V200                             float16\n",
       "V201                             float16\n",
       "V202                             float32\n",
       "V203                             float32\n",
       "V204                             float32\n",
       "V205                             float16\n",
       "V206                             float16\n",
       "V207                             float16\n",
       "V208                             float16\n",
       "V209                             float16\n",
       "V210                             float16\n",
       "V211                             float32\n",
       "V212                             float32\n",
       "V213                             float32\n",
       "V214                             float32\n",
       "V215                             float32\n",
       "V216                             float32\n",
       "V217                             float16\n",
       "V218                             float16\n",
       "V219                             float16\n",
       "V220                             float16\n",
       "V221                             float16\n",
       "V222                             float16\n",
       "V223                             float16\n",
       "V224                             float16\n",
       "V225                             float16\n",
       "V226                             float16\n",
       "V227                             float16\n",
       "V228                             float16\n",
       "V229                             float16\n",
       "V230                             float16\n",
       "V231                             float16\n",
       "V232                             float16\n",
       "V233                             float16\n",
       "V234                             float16\n",
       "V235                             float16\n",
       "V236                             float16\n",
       "V237                             float16\n",
       "V238                             float16\n",
       "V239                             float16\n",
       "V240                             float16\n",
       "V241                             float16\n",
       "V242                             float16\n",
       "V243                             float16\n",
       "V244                             float16\n",
       "V245                             float16\n",
       "V246                             float16\n",
       "V247                             float16\n",
       "V248                             float16\n",
       "V249                             float16\n",
       "V250                             float16\n",
       "V251                             float16\n",
       "V252                             float16\n",
       "V253                             float16\n",
       "V254                             float16\n",
       "V255                             float16\n",
       "V256                             float16\n",
       "V257                             float16\n",
       "V258                             float16\n",
       "V259                             float16\n",
       "V260                             float16\n",
       "V261                             float16\n",
       "V262                             float16\n",
       "V263                             float32\n",
       "V264                             float32\n",
       "V265                             float32\n",
       "V266                             float16\n",
       "V267                             float16\n",
       "V268                             float16\n",
       "V269                             float16\n",
       "V270                             float16\n",
       "V271                             float16\n",
       "V272                             float16\n",
       "V273                             float16\n",
       "V274                             float32\n",
       "V275                             float16\n",
       "V276                             float32\n",
       "V277                             float32\n",
       "V278                             float32\n",
       "V279                             float16\n",
       "V280                             float16\n",
       "V281                             float16\n",
       "V282                             float16\n",
       "V283                             float16\n",
       "V284                             float16\n",
       "V285                             float16\n",
       "V286                             float16\n",
       "V287                             float16\n",
       "V288                             float16\n",
       "V289                             float16\n",
       "V290                             float16\n",
       "V291                             float16\n",
       "V292                             float16\n",
       "V293                             float16\n",
       "V294                             float16\n",
       "V295                             float16\n",
       "V296                             float16\n",
       "V297                             float16\n",
       "V298                             float16\n",
       "V299                             float16\n",
       "V300                             float16\n",
       "V301                             float16\n",
       "V302                             float16\n",
       "V303                             float16\n",
       "V304                             float16\n",
       "V305                             float16\n",
       "V306                             float32\n",
       "V307                             float32\n",
       "V308                             float32\n",
       "V309                             float16\n",
       "V310                             float16\n",
       "V311                             float16\n",
       "V312                             float16\n",
       "V313                             float16\n",
       "V314                             float16\n",
       "V315                             float16\n",
       "V316                             float32\n",
       "V317                             float32\n",
       "V318                             float32\n",
       "V319                             float32\n",
       "V320                             float32\n",
       "V321                             float32\n",
       "id_01                            float16\n",
       "id_02                            float32\n",
       "id_05                            float16\n",
       "id_06                            float16\n",
       "id_11                            float16\n",
       "id_12                             object\n",
       "id_13                            float16\n",
       "id_15                             object\n",
       "id_16                             object\n",
       "id_17                            float16\n",
       "id_19                            float16\n",
       "id_20                            float16\n",
       "id_28                             object\n",
       "id_29                             object\n",
       "id_31                             object\n",
       "id_35                             object\n",
       "id_36                             object\n",
       "id_37                             object\n",
       "id_38                             object\n",
       "DeviceType                        object\n",
       "DeviceInfo                        object\n",
       "TransactionAmt_to_mean_card1     float16\n",
       "TransactionAmt_to_std_card1      float16\n",
       "TransactionAmt_to_mean_card4     float16\n",
       "TransactionAmt_to_std_card4      float16\n",
       "TransactionAmt_to_mean_addr1     float16\n",
       "TransactionAmt_to_std_addr1      float16\n",
       "id_02_to_mean_card1              float32\n",
       "id_02_to_std_card1               float32\n",
       "id_02_to_mean_card4              float32\n",
       "id_02_to_std_card4               float32\n",
       "D15_to_mean_card1                float16\n",
       "D15_to_std_card1                 float16\n",
       "D15_to_mean_card4                float16\n",
       "D15_to_std_card4                 float16\n",
       "D15_to_mean_addr1                float16\n",
       "D15_to_std_addr1                 float16\n",
       "nulls                              int64\n",
       "device_name                       object\n",
       "TransactionAmt_Log               float16\n",
       "Transaction_h                    float64\n",
       "id_02_to_mean_addr1              float32\n",
       "id_02_to_std_addr1               float32\n",
       "addr1_card1                       object\n",
       "TransactionAmt_decimal             int64\n",
       "dtype: object"
      ]
     },
     "execution_count": 135,
     "metadata": {},
     "output_type": "execute_result"
    }
   ],
   "source": [
    "train_upsampled.dtypes"
   ]
  },
  {
   "cell_type": "code",
   "execution_count": 62,
   "metadata": {},
   "outputs": [
    {
     "data": {
      "text/plain": [
       "Index(['ProductCD', 'card4', 'card6', 'P_emaildomain', 'R_emaildomain', 'M1',\n",
       "       'M2', 'M3', 'M4', 'M5', 'M6', 'M7', 'M8', 'M9', 'id_12', 'id_15',\n",
       "       'id_16', 'id_28', 'id_29', 'id_31', 'id_35', 'id_36', 'id_37', 'id_38',\n",
       "       'DeviceType', 'DeviceInfo', 'device_name'],\n",
       "      dtype='object')"
      ]
     },
     "execution_count": 62,
     "metadata": {},
     "output_type": "execute_result"
    }
   ],
   "source": [
    "train_upsampled.select_dtypes(include='object').columns"
   ]
  },
  {
   "cell_type": "code",
   "execution_count": 136,
   "metadata": {},
   "outputs": [
    {
     "data": {
      "text/plain": [
       "Index(['ProductCD'], dtype='object')"
      ]
     },
     "execution_count": 136,
     "metadata": {},
     "output_type": "execute_result"
    }
   ],
   "source": [
    "temp_cat = train_upsampled.select_dtypes(include='category').columns\n",
    "temp_cat"
   ]
  },
  {
   "cell_type": "code",
   "execution_count": 137,
   "metadata": {},
   "outputs": [],
   "source": [
    "# change the type of ['ProductCD', 'card4', 'card6']\n",
    "train_upsampled.ProductCD = train_upsampled.ProductCD.astype('object')\n",
    "# train_upsampled.card4 = train_upsampled.card4.astype('object')\n",
    "# train_upsampled.card6 = train_upsampled.card6.astype('object')\n"
   ]
  },
  {
   "cell_type": "code",
   "execution_count": 138,
   "metadata": {},
   "outputs": [
    {
     "name": "stdout",
     "output_type": "stream",
     "text": [
      "CPU times: user 31.5 s, sys: 3.29 s, total: 34.8 s\n",
      "Wall time: 36.3 s\n"
     ]
    }
   ],
   "source": [
    "%%time\n",
    "from sklearn.preprocessing import LabelEncoder\n",
    "\n",
    "for col in train_upsampled.columns:\n",
    "    if train_upsampled[col].dtype == 'object':\n",
    "        le = LabelEncoder()\n",
    "        le.fit(list(train_upsampled[col].astype(str).values) + list(df_test[col].astype(str).values))\n",
    "        train_upsampled[col] = le.transform(list(train_upsampled[col].astype(str).values))\n",
    "        df_test[col] = le.transform(list(df_test[col].astype(str).values))"
   ]
  },
  {
   "cell_type": "code",
   "execution_count": 145,
   "metadata": {},
   "outputs": [],
   "source": [
    "#https://www.kaggle.com/yw6916/lgb-xgb-ensemble-stacking-based-on-fea-eng\n",
    "y_train = train_upsampled['isFraud'].copy()\n",
    "X_train = train_upsampled.drop('isFraud', axis=1)\n",
    "X_test = df_test.copy()"
   ]
  },
  {
   "cell_type": "code",
   "execution_count": 154,
   "metadata": {},
   "outputs": [],
   "source": [
    "X_test = X_test.drop(['D6','D13','D14'],axis = 1)"
   ]
  },
  {
   "cell_type": "code",
   "execution_count": 148,
   "metadata": {},
   "outputs": [
    {
     "name": "stdout",
     "output_type": "stream",
     "text": [
      "(1139754,)\n",
      "(1139754, 382)\n",
      "(506691, 385)\n"
     ]
    }
   ],
   "source": [
    "print(y_train.shape)\n",
    "print(X_train.shape)\n",
    "print(X_test.shape)"
   ]
  },
  {
   "cell_type": "code",
   "execution_count": 149,
   "metadata": {},
   "outputs": [],
   "source": [
    "xtrains = list(X_train.columns)\n",
    "xtest = list(X_test.columns)"
   ]
  },
  {
   "cell_type": "code",
   "execution_count": 150,
   "metadata": {},
   "outputs": [
    {
     "name": "stdout",
     "output_type": "stream",
     "text": [
      "D6\n",
      "D13\n",
      "D14\n"
     ]
    }
   ],
   "source": [
    "for i in xtest:\n",
    "    if i not in xtrains:\n",
    "        print(i)"
   ]
  },
  {
   "cell_type": "code",
   "execution_count": 146,
   "metadata": {},
   "outputs": [
    {
     "name": "stdout",
     "output_type": "stream",
     "text": [
      "KFold(n_splits=4, random_state=None, shuffle=True)\n"
     ]
    }
   ],
   "source": [
    "from sklearn.model_selection import TimeSeriesSplit,KFold\n",
    "n_fold = 4\n",
    "folds = KFold(n_splits=n_fold,shuffle=True)\n",
    "\n",
    "print(folds)"
   ]
  },
  {
   "cell_type": "code",
   "execution_count": 142,
   "metadata": {},
   "outputs": [
    {
     "name": "stderr",
     "output_type": "stream",
     "text": [
      "/Users/wzp/anaconda3/lib/python3.7/site-packages/lightgbm/__init__.py:46: UserWarning: Starting from version 2.2.1, the library file in distribution wheels for macOS is built by the Apple Clang (Xcode_8.3.3) compiler.\n",
      "This means that in case of installing LightGBM from PyPI via the ``pip install lightgbm`` command, you don't need to install the gcc compiler anymore.\n",
      "Instead of that, you need to install the OpenMP library, which is required for running LightGBM on the system with the Apple Clang compiler.\n",
      "You can install the OpenMP library by the following command: ``brew install libomp``.\n",
      "  \"You can install the OpenMP library by the following command: ``brew install libomp``.\", UserWarning)\n"
     ]
    }
   ],
   "source": [
    "from sklearn.model_selection import KFold\n",
    "import lightgbm as lgb"
   ]
  },
  {
   "cell_type": "code",
   "execution_count": 160,
   "metadata": {},
   "outputs": [
    {
     "name": "stdout",
     "output_type": "stream",
     "text": [
      "0\n",
      "finish train\n",
      "finish pred\n",
      "ROC accuracy: 0.9999280472147053\n",
      "1\n",
      "finish train\n",
      "finish pred\n",
      "ROC accuracy: 0.999957849368564\n",
      "2\n",
      "finish train\n",
      "finish pred\n",
      "ROC accuracy: 0.9999472624814836\n",
      "3\n",
      "finish train\n",
      "finish pred\n",
      "ROC accuracy: 0.9999437683530386\n"
     ]
    }
   ],
   "source": [
    "lgb_submission=sub.copy()\n",
    "lgb_submission['isFraud'] = 0\n",
    "import lightgbm as lgb\n",
    "from sklearn.metrics import roc_auc_score\n",
    "for fold_n, (train_index, valid_index) in enumerate(folds.split(X_train)):\n",
    "    print(fold_n)\n",
    "    \n",
    "    X_train_, X_valid = X_train.iloc[train_index], X_train.iloc[valid_index]\n",
    "    y_train_, y_valid = y_train.iloc[train_index], y_train.iloc[valid_index]\n",
    "    dtrain = lgb.Dataset(X_train, label=y_train)\n",
    "    dvalid = lgb.Dataset(X_valid, label=y_valid)\n",
    "    \n",
    "    lgbclf = lgb.LGBMClassifier(\n",
    "        num_leaves= 500,\n",
    "        n_estimators=500,\n",
    "        max_depth=-1,\n",
    "        learning_rate=0.064,\n",
    "        subsample=0.85,\n",
    "        colsample_bytree=0.85,\n",
    "        boosting_type= \"gbdt\",\n",
    "        reg_alpha=0.38,\n",
    "        reg_lamdba=0.65\n",
    "    )\n",
    "    \n",
    "    X_train_, X_valid = X_train.iloc[train_index], X_train.iloc[valid_index]\n",
    "    y_train_, y_valid = y_train.iloc[train_index], y_train.iloc[valid_index]\n",
    "    lgbclf.fit(X_train_,y_train_)\n",
    "    \n",
    "    del X_train_,y_train_\n",
    "    print('finish train')\n",
    "    pred=lgbclf.predict_proba(X_test)[:,1]\n",
    "    val=lgbclf.predict_proba(X_valid)[:,1]\n",
    "    print('finish pred')\n",
    "    del lgbclf, X_valid\n",
    "    print('ROC accuracy: {}'.format(roc_auc_score(y_valid, val)))\n",
    "    del val,y_valid\n",
    "    lgb_submission['isFraud'] = lgb_submission['isFraud']+pred/n_fold\n",
    "    del pred\n",
    "    gc.collect()"
   ]
  },
  {
   "cell_type": "code",
   "execution_count": 158,
   "metadata": {},
   "outputs": [
    {
     "data": {
      "text/html": [
       "<div>\n",
       "<style scoped>\n",
       "    .dataframe tbody tr th:only-of-type {\n",
       "        vertical-align: middle;\n",
       "    }\n",
       "\n",
       "    .dataframe tbody tr th {\n",
       "        vertical-align: top;\n",
       "    }\n",
       "\n",
       "    .dataframe thead th {\n",
       "        text-align: right;\n",
       "    }\n",
       "</style>\n",
       "<table border=\"1\" class=\"dataframe\">\n",
       "  <thead>\n",
       "    <tr style=\"text-align: right;\">\n",
       "      <th></th>\n",
       "      <th>TransactionID</th>\n",
       "      <th>isFraud</th>\n",
       "    </tr>\n",
       "  </thead>\n",
       "  <tbody>\n",
       "    <tr>\n",
       "      <th>0</th>\n",
       "      <td>3663549</td>\n",
       "      <td>0.000728</td>\n",
       "    </tr>\n",
       "    <tr>\n",
       "      <th>1</th>\n",
       "      <td>3663550</td>\n",
       "      <td>0.000291</td>\n",
       "    </tr>\n",
       "    <tr>\n",
       "      <th>2</th>\n",
       "      <td>3663551</td>\n",
       "      <td>0.000635</td>\n",
       "    </tr>\n",
       "    <tr>\n",
       "      <th>3</th>\n",
       "      <td>3663552</td>\n",
       "      <td>0.000735</td>\n",
       "    </tr>\n",
       "    <tr>\n",
       "      <th>4</th>\n",
       "      <td>3663553</td>\n",
       "      <td>0.000919</td>\n",
       "    </tr>\n",
       "  </tbody>\n",
       "</table>\n",
       "</div>"
      ],
      "text/plain": [
       "   TransactionID   isFraud\n",
       "0        3663549  0.000728\n",
       "1        3663550  0.000291\n",
       "2        3663551  0.000635\n",
       "3        3663552  0.000735\n",
       "4        3663553  0.000919"
      ]
     },
     "execution_count": 158,
     "metadata": {},
     "output_type": "execute_result"
    }
   ],
   "source": [
    "lgb_submission.head()"
   ]
  },
  {
   "cell_type": "code",
   "execution_count": 161,
   "metadata": {},
   "outputs": [],
   "source": [
    "lgb_submission.to_csv('submission.csv', index=False)"
   ]
  },
  {
   "cell_type": "code",
   "execution_count": null,
   "metadata": {},
   "outputs": [],
   "source": []
  }
 ],
 "metadata": {
  "kernelspec": {
   "display_name": "Python 3",
   "language": "python",
   "name": "python3"
  },
  "language_info": {
   "codemirror_mode": {
    "name": "ipython",
    "version": 3
   },
   "file_extension": ".py",
   "mimetype": "text/x-python",
   "name": "python",
   "nbconvert_exporter": "python",
   "pygments_lexer": "ipython3",
   "version": "3.7.3"
  }
 },
 "nbformat": 4,
 "nbformat_minor": 2
}
